{
 "cells": [
  {
   "cell_type": "code",
   "execution_count": 252,
   "metadata": {},
   "outputs": [],
   "source": [
    "import pandas as pd\n",
    "import requests\n",
    "import re\n",
    "\n",
    "import scipy.stats as st\n",
    "\n",
    "\n",
    "DISTRIBUTIONS = [        \n",
    "            st.alpha,#,st.anglit,st.arcsine,st.beta,st.betaprime,st.bradford,st.burr,st.cauchy,st.chi,st.chi2,st.cosine,\n",
    "            #st.dgamma,st.dweibull,st.erlang,st.expon,st.exponnorm,st.exponweib,st.exponpow,st.f,st.fatiguelife,st.fisk,\n",
    "            #st.foldcauchy,st.foldnorm,st.genlogistic,st.genpareto,st.gennorm,st.genexpon,\n",
    "            #st.genextreme,st.gausshyper,st.gamma,st.gengamma,st.genhalflogistic,st.gilbrat,st.gompertz,st.gumbel_r,\n",
    "            #st.gumbel_l,st.halfcauchy,st.halflogistic,st.halfnorm,st.halfgennorm,st.hypsecant,st.invgamma,st.invgauss,\n",
    "            #st.invweibull,st.johnsonsb,st.johnsonsu,st.ksone,st.kstwobign,\n",
    "            #st.laplace,st.levy,st.levy_l,st.levy_stable,\n",
    "            #st.logistic,st.loggamma, st.loglaplace, st.lognorm,st.lomax,st.maxwell,st.mielke,st.nakagami,st.ncx2,st.ncf,\n",
    "            st.nct,st.norm,#st.pareto, st.pearson3, st.powerlaw,st.powerlognorm,st.powernorm,st.rdist,st.reciprocal,\n",
    "            #st.rayleigh,st.rice, st.recipinvgauss, st.semicircular,st.t,st.triang,st.truncexpon,st.truncnorm,st.tukeylambda,\n",
    "            st.uniform, st.johnsonsu, #st.vonmises, st.vonmises_line, st.wald, st.weibull_min, st.weibull_max, st.wrapcauchy\n",
    "        ]\n",
    "\n",
    "class Commodity:\n",
    "\n",
    "    def __init__(self, spot, \n",
    "                 name = \"Empty_Name\"):\n",
    "        \n",
    "        \"\"\"\n",
    "        Parameters\n",
    "        ----------  \n",
    "\n",
    "        spot : Цены товарно-сырьевого актива Series или Dict\n",
    "        name : Имя товарно-сырьевого актива\n",
    "        \n",
    "        \"\"\"                         \n",
    "        self.spot = spot           \n",
    "        self.name = name\n",
    "        \n",
    "\n",
    "    def check_spot(self, df):\n",
    "        return(df)\n",
    "    \n",
    "    \n",
    "    def calculate_first_diff(self, df):\n",
    "        previous = 0\n",
    "        result = {}\n",
    "        \n",
    "        for index, value in df.items():\n",
    "            result.update( {index :  ((value - previous)/value)} )\n",
    "            previous = value\n",
    "            \n",
    "        return (pd.Series(result))\n",
    "    \n",
    "    def fit(self):\n",
    "        pass\n",
    "    \n",
    "    \n",
    "    @property\n",
    "    def name(self):\n",
    "        return self.__name\n",
    "    \n",
    "    @name.setter\n",
    "    def name(self, new_name):\n",
    "        if isinstance(new_name, str):\n",
    "            self.__name = new_name\n",
    "        else:\n",
    "            raise TypeError('Значение имени актива должно быть типа Str ')\n",
    "            \n",
    "    @property\n",
    "    def spot(self):\n",
    "        return self.__spot\n",
    "    \n",
    "    @spot.setter\n",
    "    def spot(self, new_spot):\n",
    "        \n",
    "        if isinstance(new_spot, Series):\n",
    "            self.__spot = self.check_spot(new_spot)\n",
    "        elif isinstance(new_spot, dict):\n",
    "            self.__spot = self.check_spot(pd.Series(new_spot))            \n",
    "        else:\n",
    "            raise TypeError('Значения цен должны быть типа Series или Dict ')\n",
    "            \n",
    "        self.__first_diff  = self.calculate_first_diff(self.__spot)\n",
    "        \n",
    "    @property\n",
    "    def first_diff(self):\n",
    "        return self.__first_diff\n",
    "    \n",
    "    @first_diff.setter\n",
    "    def first_diff(self, new):\n",
    "        raise TypeError('Задайте сначала значения цен')\n",
    "\n",
    "        \n",
    "        \n",
    "class Currency:\n",
    "    def __init__(self, \n",
    "                 start_date = \"2010-01-01\", \n",
    "                 end_date = datetime.today().strftime('%Y-%m-%d'),\n",
    "                 base = None,\n",
    "                 name = \"Empty_name\"):\n",
    "        \n",
    "        \"\"\"\n",
    "        Parameters\n",
    "        ----------  \n",
    "\n",
    "        name : Наименование иностранной валюты\n",
    "        base : Код иностранной валюты\n",
    "        start_date : Дата начала исторического периода\n",
    "        end_date : Дата окончания исторического периода\n",
    "        \n",
    "        \"\"\"      \n",
    "        self.init = True\n",
    "        self.name = name\n",
    "        self.start_date = start_date\n",
    "        self.end_date = end_date\n",
    "        self.__base = base\n",
    "        self.init = False\n",
    "        self.__data = self.load_data()\n",
    "                   \n",
    "    @property\n",
    "    def name(self):\n",
    "        return self.__name\n",
    "    \n",
    "    @name.setter\n",
    "    def name(self, new_name):\n",
    "        if isinstance(new_name, str):\n",
    "            self.__name = new_name\n",
    "        else:\n",
    "            raise TypeError('Значение имени актива должно быть типа Str ')\n",
    "            \n",
    "    @property\n",
    "    def base(self):\n",
    "        return self.__base\n",
    "    \n",
    "    @base.setter\n",
    "    def base(self, new_name):\n",
    "        if self.init == True:\n",
    "            if isinstance(new_name, str):\n",
    "                self.__base = new_name\n",
    "            else:\n",
    "                raise TypeError('Значение кода базового актива должно быть типа Str ')\n",
    "        raise TypeError('Значение базового актива не подлежит изменению')\n",
    "                \n",
    "    @property\n",
    "    def start_date(self):\n",
    "        return self.__start_date\n",
    "    \n",
    "    @start_date.setter\n",
    "    def start_date(self, new_value):\n",
    "        if re.fullmatch(r'\\d\\d\\d\\d-\\d\\d-\\d\\d', new_value) == None: \n",
    "            raise TypeError('Значение даты должно быть в формате YYYY-MM-DD ')\n",
    "            \n",
    "        try:\n",
    "            datetime.strptime(new_value, '%Y-%m-%d')\n",
    "        except:\n",
    "            raise TypeError('Значение не является датой')\n",
    "            \n",
    "        if datetime.strptime(new_value, '%Y-%m-%d') >= datetime.today():\n",
    "            raise TypeError('Значение даты начала больше текущей даты')\n",
    "           \n",
    "        self.__start_date = new_value\n",
    "        \n",
    "        if self.init == False:\n",
    "            self.loaddata()                        \n",
    "       \n",
    "                \n",
    "    @property\n",
    "    def end_date(self):\n",
    "        return self.__end_date\n",
    "    \n",
    "    @end_date.setter\n",
    "    def end_date(self, new_value):\n",
    "        if re.fullmatch(r'\\d\\d\\d\\d-\\d\\d-\\d\\d', new_value) == None:\n",
    "            raise TypeError('Значение даты должно быть в формате YYYY-MM-DD ')\n",
    "        \n",
    "        try:\n",
    "            datetime.strptime(new_value, '%Y-%m-%d')\n",
    "        except:\n",
    "            raise TypeError('Значение не является датой')\n",
    "            \n",
    "        if datetime.strptime(new_value, '%Y-%m-%d') <= datetime.strptime(self.__start_date, '%Y-%m-%d'):\n",
    "            raise TypeError('Значение даты начала больше значения даты окончания')\n",
    "            \n",
    "        self.__end_date = new_value\n",
    "        \n",
    "        if self.init == False:\n",
    "            self.loaddata()\n",
    "                               \n",
    "    def load_data(self):\n",
    "        try:\n",
    "            url = f'https://api.exchangeratesapi.io/history?start_at={self.__start_date}&end_at={self.__end_date}&base={self.__base}'\n",
    "            return(requests.get(url).json()['rates'])\n",
    "        except:\n",
    "            raise TypeError('Произошла ошибка при загрузке данных')\n",
    "            \n",
    "    def get_rate(self, curr, date):\n",
    "        if date in self.__data.keys():\n",
    "            if curr in self.__data[date].keys():\n",
    "                return self.__data[date][curr]\n",
    "            else:\n",
    "                return -1\n",
    "        else:\n",
    "            return -1\n",
    "        \n",
    "                "
   ]
  },
  {
   "cell_type": "code",
   "execution_count": 249,
   "metadata": {},
   "outputs": [],
   "source": [
    "USD = Currency(base=\"USD\", name = \"Доллар\")\n",
    "EUR = Currency(base=\"EUR\", name = \"Евро\")"
   ]
  },
  {
   "cell_type": "code",
   "execution_count": 250,
   "metadata": {},
   "outputs": [
    {
     "ename": "TypeError",
     "evalue": "Произошла ошибка при загрузке данных",
     "output_type": "error",
     "traceback": [
      "\u001b[1;31m---------------------------------------------------------------------------\u001b[0m",
      "\u001b[1;31mKeyError\u001b[0m                                  Traceback (most recent call last)",
      "\u001b[1;32m<ipython-input-241-8ab898738b71>\u001b[0m in \u001b[0;36mload_data\u001b[1;34m(self)\u001b[0m\n\u001b[0;32m    171\u001b[0m             \u001b[0murl\u001b[0m \u001b[1;33m=\u001b[0m \u001b[1;34mf'https://api.exchangeratesapi.io/history?start_at={self.__start_date}&end_at={self.__end_date}&base={self.__base}'\u001b[0m\u001b[1;33m\u001b[0m\u001b[1;33m\u001b[0m\u001b[0m\n\u001b[1;32m--> 172\u001b[1;33m             \u001b[1;32mreturn\u001b[0m\u001b[1;33m(\u001b[0m\u001b[0mrequests\u001b[0m\u001b[1;33m.\u001b[0m\u001b[0mget\u001b[0m\u001b[1;33m(\u001b[0m\u001b[0murl\u001b[0m\u001b[1;33m)\u001b[0m\u001b[1;33m.\u001b[0m\u001b[0mjson\u001b[0m\u001b[1;33m(\u001b[0m\u001b[1;33m)\u001b[0m\u001b[1;33m[\u001b[0m\u001b[1;34m'rates'\u001b[0m\u001b[1;33m]\u001b[0m\u001b[1;33m)\u001b[0m\u001b[1;33m\u001b[0m\u001b[1;33m\u001b[0m\u001b[0m\n\u001b[0m\u001b[0;32m    173\u001b[0m         \u001b[1;32mexcept\u001b[0m\u001b[1;33m:\u001b[0m\u001b[1;33m\u001b[0m\u001b[1;33m\u001b[0m\u001b[0m\n",
      "\u001b[1;31mKeyError\u001b[0m: 'rates'",
      "\nDuring handling of the above exception, another exception occurred:\n",
      "\u001b[1;31mTypeError\u001b[0m                                 Traceback (most recent call last)",
      "\u001b[1;32m<ipython-input-250-fb12df0a0dea>\u001b[0m in \u001b[0;36m<module>\u001b[1;34m\u001b[0m\n\u001b[1;32m----> 1\u001b[1;33m \u001b[0mEUR\u001b[0m \u001b[1;33m=\u001b[0m \u001b[0mCurrency\u001b[0m\u001b[1;33m(\u001b[0m\u001b[0mbase\u001b[0m\u001b[1;33m=\u001b[0m\u001b[1;34m\"HH\"\u001b[0m\u001b[1;33m,\u001b[0m \u001b[0mname\u001b[0m \u001b[1;33m=\u001b[0m \u001b[1;34m\"Евро\"\u001b[0m\u001b[1;33m)\u001b[0m\u001b[1;33m\u001b[0m\u001b[1;33m\u001b[0m\u001b[0m\n\u001b[0m",
      "\u001b[1;32m<ipython-input-241-8ab898738b71>\u001b[0m in \u001b[0;36m__init__\u001b[1;34m(self, start_date, end_date, base, name)\u001b[0m\n\u001b[0;32m     96\u001b[0m         \u001b[0mself\u001b[0m\u001b[1;33m.\u001b[0m\u001b[0m__base\u001b[0m \u001b[1;33m=\u001b[0m \u001b[0mbase\u001b[0m\u001b[1;33m\u001b[0m\u001b[1;33m\u001b[0m\u001b[0m\n\u001b[0;32m     97\u001b[0m         \u001b[0mself\u001b[0m\u001b[1;33m.\u001b[0m\u001b[0minit\u001b[0m \u001b[1;33m=\u001b[0m \u001b[1;32mFalse\u001b[0m\u001b[1;33m\u001b[0m\u001b[1;33m\u001b[0m\u001b[0m\n\u001b[1;32m---> 98\u001b[1;33m         \u001b[0mself\u001b[0m\u001b[1;33m.\u001b[0m\u001b[0m__data\u001b[0m \u001b[1;33m=\u001b[0m \u001b[0mself\u001b[0m\u001b[1;33m.\u001b[0m\u001b[0mload_data\u001b[0m\u001b[1;33m(\u001b[0m\u001b[1;33m)\u001b[0m\u001b[1;33m\u001b[0m\u001b[1;33m\u001b[0m\u001b[0m\n\u001b[0m\u001b[0;32m     99\u001b[0m \u001b[1;33m\u001b[0m\u001b[0m\n\u001b[0;32m    100\u001b[0m     \u001b[1;33m@\u001b[0m\u001b[0mproperty\u001b[0m\u001b[1;33m\u001b[0m\u001b[1;33m\u001b[0m\u001b[0m\n",
      "\u001b[1;32m<ipython-input-241-8ab898738b71>\u001b[0m in \u001b[0;36mload_data\u001b[1;34m(self)\u001b[0m\n\u001b[0;32m    172\u001b[0m             \u001b[1;32mreturn\u001b[0m\u001b[1;33m(\u001b[0m\u001b[0mrequests\u001b[0m\u001b[1;33m.\u001b[0m\u001b[0mget\u001b[0m\u001b[1;33m(\u001b[0m\u001b[0murl\u001b[0m\u001b[1;33m)\u001b[0m\u001b[1;33m.\u001b[0m\u001b[0mjson\u001b[0m\u001b[1;33m(\u001b[0m\u001b[1;33m)\u001b[0m\u001b[1;33m[\u001b[0m\u001b[1;34m'rates'\u001b[0m\u001b[1;33m]\u001b[0m\u001b[1;33m)\u001b[0m\u001b[1;33m\u001b[0m\u001b[1;33m\u001b[0m\u001b[0m\n\u001b[0;32m    173\u001b[0m         \u001b[1;32mexcept\u001b[0m\u001b[1;33m:\u001b[0m\u001b[1;33m\u001b[0m\u001b[1;33m\u001b[0m\u001b[0m\n\u001b[1;32m--> 174\u001b[1;33m             \u001b[1;32mraise\u001b[0m \u001b[0mTypeError\u001b[0m\u001b[1;33m(\u001b[0m\u001b[1;34m'Произошла ошибка при загрузке данных'\u001b[0m\u001b[1;33m)\u001b[0m\u001b[1;33m\u001b[0m\u001b[1;33m\u001b[0m\u001b[0m\n\u001b[0m\u001b[0;32m    175\u001b[0m \u001b[1;33m\u001b[0m\u001b[0m\n\u001b[0;32m    176\u001b[0m     \u001b[1;32mdef\u001b[0m \u001b[0mget_rate\u001b[0m\u001b[1;33m(\u001b[0m\u001b[0mself\u001b[0m\u001b[1;33m,\u001b[0m \u001b[0mcurr\u001b[0m\u001b[1;33m,\u001b[0m \u001b[0mdate\u001b[0m\u001b[1;33m)\u001b[0m\u001b[1;33m:\u001b[0m\u001b[1;33m\u001b[0m\u001b[1;33m\u001b[0m\u001b[0m\n",
      "\u001b[1;31mTypeError\u001b[0m: Произошла ошибка при загрузке данных"
     ]
    }
   ],
   "source": []
  },
  {
   "cell_type": "code",
   "execution_count": 248,
   "metadata": {},
   "outputs": [
    {
     "data": {
      "text/plain": [
       "76.7802503477"
      ]
     },
     "execution_count": 248,
     "metadata": {},
     "output_type": "execute_result"
    }
   ],
   "source": [
    "USD.get_rate(\"RUB\",\"2020-04-03\" )"
   ]
  },
  {
   "cell_type": "code",
   "execution_count": 247,
   "metadata": {},
   "outputs": [
    {
     "ename": "AttributeError",
     "evalue": "'Currency' object has no attribute 'data'",
     "output_type": "error",
     "traceback": [
      "\u001b[1;31m---------------------------------------------------------------------------\u001b[0m",
      "\u001b[1;31mAttributeError\u001b[0m                            Traceback (most recent call last)",
      "\u001b[1;32m<ipython-input-247-001bc9396eb3>\u001b[0m in \u001b[0;36m<module>\u001b[1;34m\u001b[0m\n\u001b[1;32m----> 1\u001b[1;33m \u001b[0mUSD\u001b[0m\u001b[1;33m.\u001b[0m\u001b[0mdata\u001b[0m\u001b[1;33m\u001b[0m\u001b[1;33m\u001b[0m\u001b[0m\n\u001b[0m",
      "\u001b[1;31mAttributeError\u001b[0m: 'Currency' object has no attribute 'data'"
     ]
    }
   ],
   "source": [
    "USD.data"
   ]
  },
  {
   "cell_type": "code",
   "execution_count": 125,
   "metadata": {},
   "outputs": [],
   "source": [
    " = Commodity({1:22, 2:21, 3:44}, \"5\")"
   ]
  },
  {
   "cell_type": "code",
   "execution_count": 124,
   "metadata": {},
   "outputs": [
    {
     "ename": "TypeError",
     "evalue": "Задайте сначала значения цен",
     "output_type": "error",
     "traceback": [
      "\u001b[1;31m---------------------------------------------------------------------------\u001b[0m",
      "\u001b[1;31mTypeError\u001b[0m                                 Traceback (most recent call last)",
      "\u001b[1;32m<ipython-input-124-cc918205b01a>\u001b[0m in \u001b[0;36m<module>\u001b[1;34m\u001b[0m\n\u001b[1;32m----> 1\u001b[1;33m \u001b[0mp\u001b[0m\u001b[1;33m.\u001b[0m\u001b[0mfirst_diff\u001b[0m \u001b[1;33m=\u001b[0m \u001b[1;36m8\u001b[0m\u001b[1;33m\u001b[0m\u001b[1;33m\u001b[0m\u001b[0m\n\u001b[0m",
      "\u001b[1;32m<ipython-input-123-5f3e9e5fe35d>\u001b[0m in \u001b[0;36mfirst_diff\u001b[1;34m(self, new)\u001b[0m\n\u001b[0;32m     67\u001b[0m     \u001b[1;33m@\u001b[0m\u001b[0mfirst_diff\u001b[0m\u001b[1;33m.\u001b[0m\u001b[0msetter\u001b[0m\u001b[1;33m\u001b[0m\u001b[1;33m\u001b[0m\u001b[0m\n\u001b[0;32m     68\u001b[0m     \u001b[1;32mdef\u001b[0m \u001b[0mfirst_diff\u001b[0m\u001b[1;33m(\u001b[0m\u001b[0mself\u001b[0m\u001b[1;33m,\u001b[0m \u001b[0mnew\u001b[0m\u001b[1;33m)\u001b[0m\u001b[1;33m:\u001b[0m\u001b[1;33m\u001b[0m\u001b[1;33m\u001b[0m\u001b[0m\n\u001b[1;32m---> 69\u001b[1;33m         \u001b[1;32mraise\u001b[0m \u001b[0mTypeError\u001b[0m\u001b[1;33m(\u001b[0m\u001b[1;34m'Задайте сначала значения цен'\u001b[0m\u001b[1;33m)\u001b[0m\u001b[1;33m\u001b[0m\u001b[1;33m\u001b[0m\u001b[0m\n\u001b[0m\u001b[0;32m     70\u001b[0m \u001b[1;33m\u001b[0m\u001b[0m\n\u001b[0;32m     71\u001b[0m \u001b[1;33m\u001b[0m\u001b[0m\n",
      "\u001b[1;31mTypeError\u001b[0m: Задайте сначала значения цен"
     ]
    }
   ],
   "source": [
    "p.first_diff = 8"
   ]
  },
  {
   "cell_type": "code",
   "execution_count": 108,
   "metadata": {},
   "outputs": [
    {
     "data": {
      "text/plain": [
       "'5'"
      ]
     },
     "execution_count": 108,
     "metadata": {},
     "output_type": "execute_result"
    }
   ],
   "source": [
    "p.name"
   ]
  }
 ],
 "metadata": {
  "kernelspec": {
   "display_name": "Python 3",
   "language": "python",
   "name": "python3"
  },
  "language_info": {
   "codemirror_mode": {
    "name": "ipython",
    "version": 3
   },
   "file_extension": ".py",
   "mimetype": "text/x-python",
   "name": "python",
   "nbconvert_exporter": "python",
   "pygments_lexer": "ipython3",
   "version": "3.7.3"
  }
 },
 "nbformat": 4,
 "nbformat_minor": 2
}
