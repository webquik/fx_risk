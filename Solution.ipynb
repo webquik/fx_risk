{
 "cells": [
  {
   "cell_type": "code",
   "execution_count": null,
   "metadata": {},
   "outputs": [],
   "source": [
    "#1#------------------------------------------------------------------------------------------------------------------------#\n",
    "#                                        Импорт библиотек                                                                  #\n",
    "#--------------------------------------------------------------------------------------------------------------------------#\n",
    "\n",
    "import numpy as np\n",
    "import matplotlib.pyplot as plt\n",
    "import pandas as pd \n",
    "import random\n",
    "import scipy.stats as st\n",
    "import statsmodels as sm\n",
    "import seaborn as sns\n",
    "from tqdm import tqdm\n",
    "import requests\n",
    "import statistics\n",
    "from plotly.offline import iplot, init_notebook_mode\n",
    "import plotly as py\n",
    "import plotly.graph_objs as go\n",
    "import ipywidgets as wd\n",
    "import plotly.figure_factory as ff\n",
    "import plotly.express as px\n",
    "py.offline.init_notebook_mode(connected=True)\n",
    "from scipy import special\n",
    "import time\n",
    "import itertools\n"
   ]
  },
  {
   "cell_type": "code",
   "execution_count": 1,
   "metadata": {},
   "outputs": [],
   "source": [
    "class Descriptor:\n",
    "    def __get__(self, obj, objtype):\n",
    "        print('descriptor __get__ called with', obj, objtype)\n",
    "        return ''\n",
    "    \n",
    "    def __set__(self, obj, value):\n",
    "        print('descriptor __set__ called with', obj, value)\n",
    "\n",
    "    def __delete__(self, obj):\n",
    "        print('descriptor __delete__ called with', obj)\n",
    "        \n",
    "    \n",
    "class User:\n",
    "    email = Descriptor()\n",
    "\n",
    "u = User()"
   ]
  },
  {
   "cell_type": "code",
   "execution_count": 2,
   "metadata": {},
   "outputs": [
    {
     "name": "stdout",
     "output_type": "stream",
     "text": [
      "descriptor __get__ called with <__main__.User object at 0x00000221FB566E48> <class '__main__.User'>\n"
     ]
    },
    {
     "data": {
      "text/plain": [
       "''"
      ]
     },
     "execution_count": 2,
     "metadata": {},
     "output_type": "execute_result"
    }
   ],
   "source": [
    "u.email"
   ]
  },
  {
   "cell_type": "code",
   "execution_count": 3,
   "metadata": {},
   "outputs": [
    {
     "name": "stdout",
     "output_type": "stream",
     "text": [
      "descriptor __set__ called with <__main__.User object at 0x00000221FB566E48> test\n"
     ]
    }
   ],
   "source": [
    "u.email = 'test'"
   ]
  },
  {
   "cell_type": "code",
   "execution_count": null,
   "metadata": {},
   "outputs": [],
   "source": [
    "del u.email"
   ]
  },
  {
   "cell_type": "code",
   "execution_count": 4,
   "metadata": {},
   "outputs": [
    {
     "name": "stdout",
     "output_type": "stream",
     "text": [
      "descriptor __get__ called with <__main__.User object at 0x00000221FB566E48> <class '__main__.User'>\n"
     ]
    },
    {
     "data": {
      "text/plain": [
       "''"
      ]
     },
     "execution_count": 4,
     "metadata": {},
     "output_type": "execute_result"
    }
   ],
   "source": [
    "u.email"
   ]
  }
 ],
 "metadata": {
  "kernelspec": {
   "display_name": "Python 3",
   "language": "python",
   "name": "python3"
  },
  "language_info": {
   "codemirror_mode": {
    "name": "ipython",
    "version": 3
   },
   "file_extension": ".py",
   "mimetype": "text/x-python",
   "name": "python",
   "nbconvert_exporter": "python",
   "pygments_lexer": "ipython3",
   "version": "3.7.3"
  }
 },
 "nbformat": 4,
 "nbformat_minor": 2
}
